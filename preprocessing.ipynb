{
 "cells": [
  {
   "cell_type": "markdown",
   "id": "433cd6e3",
   "metadata": {},
   "source": [
    "### Excel data"
   ]
  },
  {
   "cell_type": "code",
   "execution_count": 8,
   "id": "8ec0fe1f",
   "metadata": {},
   "outputs": [],
   "source": [
    "import pandas as pd\n",
    "\n",
    "df = pd.read_excel(\"data/raw/Координаты.xlsx\")[:13]\n",
    "df.columns = ['Положение', 'Координаты центра X, Y', 'Угол поворота в градусах (Относительно центра образца)', 'Размер заготовки, мм']"
   ]
  },
  {
   "cell_type": "code",
   "execution_count": 9,
   "id": "1e174718",
   "metadata": {},
   "outputs": [],
   "source": [
    "df.index = df['Положение'].str.slice(10).astype(int)\n",
    "df.index.name = 'position'"
   ]
  },
  {
   "cell_type": "code",
   "execution_count": 10,
   "id": "c9f4a272",
   "metadata": {},
   "outputs": [],
   "source": [
    "df['Координаты центра X, Y'] = df['Координаты центра X, Y'].apply(eval)\n",
    "df['coord_x'] = df['Координаты центра X, Y'].apply(lambda coords: coords[0])\n",
    "df['coord_y'] = df['Координаты центра X, Y'].apply(lambda coords: coords[1])"
   ]
  },
  {
   "cell_type": "code",
   "execution_count": 11,
   "id": "f15387ef",
   "metadata": {},
   "outputs": [],
   "source": [
    "df.rename(columns={'Угол поворота в градусах (Относительно центра образца)': 'degree', 'Размер заготовки, мм': 'size'}, inplace=True)\n",
    "df.drop(['Положение', 'Координаты центра X, Y'], axis=1, inplace=True)"
   ]
  },
  {
   "cell_type": "code",
   "execution_count": 12,
   "id": "e9ec6aa3",
   "metadata": {},
   "outputs": [],
   "source": [
    "df.to_csv(\"data/Координаты.csv\")"
   ]
  },
  {
   "cell_type": "markdown",
   "id": "86448202",
   "metadata": {},
   "source": [
    "### Images"
   ]
  },
  {
   "cell_type": "code",
   "execution_count": 1,
   "id": "9ec1cfad",
   "metadata": {},
   "outputs": [],
   "source": [
    "import os, shutil\n",
    "import pandas as pd"
   ]
  },
  {
   "cell_type": "code",
   "execution_count": 2,
   "id": "3363d7f6",
   "metadata": {},
   "outputs": [],
   "source": [
    "data = []\n",
    "for i in range(14):\n",
    "    folder = f'data/raw/Положение {i}'\n",
    "\n",
    "    for image_name in os.listdir(folder):\n",
    "        data.append((folder[folder.rfind('/') + 1:], image_name[:-4]))\n",
    "\n",
    "df = pd.DataFrame(data, columns=['position', 'file_name'])"
   ]
  },
  {
   "cell_type": "code",
   "execution_count": 3,
   "id": "e44ffbd4",
   "metadata": {},
   "outputs": [],
   "source": [
    "from sklearn.model_selection import train_test_split\n",
    "\n",
    "train, valid = train_test_split(df, test_size=0.2, stratify=df['position'])"
   ]
  },
  {
   "cell_type": "code",
   "execution_count": 4,
   "id": "c78c689d",
   "metadata": {},
   "outputs": [],
   "source": [
    "os.makedirs('yolo/data/images/train', exist_ok=True)\n",
    "os.makedirs('yolo/data/labels/train', exist_ok=True)\n",
    "\n",
    "for i in range(train.shape[0]):\n",
    "    data = train.iloc[i]\n",
    "    shutil.copy(\n",
    "        f'data/raw/{data[\"position\"]}/{data[\"file_name\"]}.bmp',\n",
    "        f'yolo/data/images/train/{i}.bmp'\n",
    "    )\n",
    "\n",
    "    shutil.copy(\n",
    "        f'data/raw/Annotations/{data[\"position\"]}/{data[\"file_name\"]}.txt',\n",
    "        f'yolo/data/labels/train/{i}.txt'\n",
    "    )\n",
    "\n",
    "os.makedirs('yolo/data/images/val', exist_ok=True)\n",
    "os.makedirs('yolo/data/labels/val', exist_ok=True)\n",
    "\n",
    "for i in range(valid.shape[0]):\n",
    "    data = valid.iloc[i]\n",
    "    shutil.copy(\n",
    "        f'data/raw/{data[\"position\"]}/{data[\"file_name\"]}.bmp',\n",
    "        f'yolo/data/images/val/{i}.bmp'\n",
    "    )\n",
    "\n",
    "    shutil.copy(\n",
    "        f'data/raw/Annotations/{data[\"position\"]}/{data[\"file_name\"]}.txt',\n",
    "        f'yolo/data/labels/val/{i}.txt'\n",
    "    )"
   ]
  }
 ],
 "metadata": {
  "kernelspec": {
   "display_name": "Python 3",
   "language": "python",
   "name": "python3"
  },
  "language_info": {
   "codemirror_mode": {
    "name": "ipython",
    "version": 3
   },
   "file_extension": ".py",
   "mimetype": "text/x-python",
   "name": "python",
   "nbconvert_exporter": "python",
   "pygments_lexer": "ipython3",
   "version": "3.11.9"
  }
 },
 "nbformat": 4,
 "nbformat_minor": 5
}
